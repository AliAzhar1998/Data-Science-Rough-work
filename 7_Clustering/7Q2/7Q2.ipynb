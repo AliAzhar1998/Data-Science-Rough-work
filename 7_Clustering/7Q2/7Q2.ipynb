{
 "cells": [
  {
   "cell_type": "markdown",
   "metadata": {},
   "source": [
    "# Clustering Algorithms Problem 1\n",
    "\n",
    "Perform clustering (hierarchical,K means clustering and DBSCAN) for the airlines data to obtain optimum number of clusters. \n",
    "Draw the inferences from the clusters obtained.\n",
    "\n",
    " \n",
    "The file East Wes Airlines contains information on passengers who belong to an airline’s frequent flier program. For each passenger the data include information on their mileage history and on different ways they accrued or spent miles in the last year. The goal is to try to identify clusters of passengers that have similar characteristics for the purpose of targeting different segments for different types of mileage offers\n",
    "\n",
    "\n",
    "### Data Description:\n",
    "\n",
    "- ID : Unique ID\n",
    "\n",
    "- Balance : Number of miles eligible for award travel\n",
    "\n",
    "- Qual_mile : Number of miles counted as qualifying for Topflight status\n",
    "\n",
    "- cc1_miles : Number of miles earned with freq. flyer credit card in the past 12 months:\n",
    "  cc2_miles : Number of miles earned with Rewards credit card in the past 12 months:\n",
    "  cc3_miles : Number of miles earned with Small Business credit card in the past 12 months:\n",
    "  Categorical values for above miles:\n",
    "    1 = under 5,000\n",
    "    2 = 5,000 - 10,000\n",
    "    3 = 10,001 - 25,000\n",
    "    4 = 25,001 - 50,000\n",
    "    5 = over 50,000\n",
    "\n",
    "- Bonus_miles : Number of miles earned from non-flight bonus transactions in the past 12 months\n",
    "\n",
    "- Bonus_trans : Number of non-flight bonus transactions in the past 12 months\n",
    "\n",
    "- Flight_miles_12mo : Number of flight miles in the past 12 months\n",
    "\n",
    "- Flight_trans_12 : Number of flight transactions in the past 12 months\n",
    "\n",
    "- Days_since_enrolled : Number of days since enrolled in flier program\n",
    "\n",
    "- Award : whether that person had award flight (free flight) or not\n",
    "\n",
    "\n",
    " "
   ]
  },
  {
   "cell_type": "markdown",
   "metadata": {},
   "source": [
    "## Steps:\n",
    "\n",
    "1. Import new data set\n",
    "    - understand the dataset, look into it. \n",
    "    - perform EDA. show profiling.\n",
    "    - check data info and null values.\n",
    "2. Feature analysis\n",
    "    - understand all features involeved.\n",
    "    - list out features that needs to be considered in the model.\n",
    "3. Standardize/Normalize the data\n",
    "    - Use necessary scaler and standardize/normalize the data.\n",
    "4. K-Means Clustering\n",
    "    - Determine the hyperparameter via elbow graph.\n",
    "    - build K-means algorithm.\n",
    "    - get cluster.labels_\n",
    "    - try out visulalizations to understand the clusters better.\n",
    "5. Heirarchial Agglomerative Clustering\n",
    "    - identify the hyperparementer (number of clusters).\n",
    "    - make dentogram of model and specify the linkage.\n",
    "    - perform agglomerative clustering.\n",
    "    - get cluster.labels_\n",
    "    - try out visulalizations to understand the clusters better.\n",
    "6. DBSCAN Clustering\n",
    "    - Identify suitable epsilon and min pts values.\n",
    "    - check labeling of points(core,border,noise pts).\n",
    "    - try out visulalizations to understand the clusters better.\n",
    "7. Compare the models and visualisations with each other\n",
    "8. Conclusion\n",
    "\n"
   ]
  },
  {
   "cell_type": "markdown",
   "metadata": {},
   "source": [
    "## Import New Dataset\n",
    "\n"
   ]
  },
  {
   "cell_type": "code",
   "execution_count": 1,
   "metadata": {
    "ExecuteTime": {
     "end_time": "2022-02-23T07:55:13.764435Z",
     "start_time": "2022-02-23T07:55:10.840622Z"
    }
   },
   "outputs": [],
   "source": [
    "#load the libraries\n",
    "import pandas as pd\n",
    "import numpy as np\n",
    "import pandas_profiling as pp\n",
    "from sklearn.cluster import KMeans\n",
    "from sklearn.cluster import DBSCAN\n",
    "from sklearn.cluster import AgglomerativeClustering\n",
    "import seaborn as sns\n",
    "from matplotlib import pyplot as plt\n",
    "%matplotlib inline"
   ]
  },
  {
   "cell_type": "code",
   "execution_count": 2,
   "metadata": {
    "ExecuteTime": {
     "end_time": "2022-02-23T07:55:23.128883Z",
     "start_time": "2022-02-23T07:55:21.864826Z"
    }
   },
   "outputs": [
    {
     "data": {
      "text/html": [
       "<div>\n",
       "<style scoped>\n",
       "    .dataframe tbody tr th:only-of-type {\n",
       "        vertical-align: middle;\n",
       "    }\n",
       "\n",
       "    .dataframe tbody tr th {\n",
       "        vertical-align: top;\n",
       "    }\n",
       "\n",
       "    .dataframe thead th {\n",
       "        text-align: right;\n",
       "    }\n",
       "</style>\n",
       "<table border=\"1\" class=\"dataframe\">\n",
       "  <thead>\n",
       "    <tr style=\"text-align: right;\">\n",
       "      <th></th>\n",
       "      <th>Balance</th>\n",
       "      <th>Qual_miles</th>\n",
       "      <th>cc1_miles</th>\n",
       "      <th>cc2_miles</th>\n",
       "      <th>cc3_miles</th>\n",
       "      <th>Bonus_miles</th>\n",
       "      <th>Bonus_trans</th>\n",
       "      <th>Flight_miles_12mo</th>\n",
       "      <th>Flight_trans_12</th>\n",
       "      <th>Days_since_enroll</th>\n",
       "      <th>award</th>\n",
       "    </tr>\n",
       "    <tr>\n",
       "      <th>ID#</th>\n",
       "      <th></th>\n",
       "      <th></th>\n",
       "      <th></th>\n",
       "      <th></th>\n",
       "      <th></th>\n",
       "      <th></th>\n",
       "      <th></th>\n",
       "      <th></th>\n",
       "      <th></th>\n",
       "      <th></th>\n",
       "      <th></th>\n",
       "    </tr>\n",
       "  </thead>\n",
       "  <tbody>\n",
       "    <tr>\n",
       "      <th>1</th>\n",
       "      <td>28143</td>\n",
       "      <td>0</td>\n",
       "      <td>1</td>\n",
       "      <td>1</td>\n",
       "      <td>1</td>\n",
       "      <td>174</td>\n",
       "      <td>1</td>\n",
       "      <td>0</td>\n",
       "      <td>0</td>\n",
       "      <td>7000</td>\n",
       "      <td>0</td>\n",
       "    </tr>\n",
       "    <tr>\n",
       "      <th>2</th>\n",
       "      <td>19244</td>\n",
       "      <td>0</td>\n",
       "      <td>1</td>\n",
       "      <td>1</td>\n",
       "      <td>1</td>\n",
       "      <td>215</td>\n",
       "      <td>2</td>\n",
       "      <td>0</td>\n",
       "      <td>0</td>\n",
       "      <td>6968</td>\n",
       "      <td>0</td>\n",
       "    </tr>\n",
       "    <tr>\n",
       "      <th>3</th>\n",
       "      <td>41354</td>\n",
       "      <td>0</td>\n",
       "      <td>1</td>\n",
       "      <td>1</td>\n",
       "      <td>1</td>\n",
       "      <td>4123</td>\n",
       "      <td>4</td>\n",
       "      <td>0</td>\n",
       "      <td>0</td>\n",
       "      <td>7034</td>\n",
       "      <td>0</td>\n",
       "    </tr>\n",
       "    <tr>\n",
       "      <th>4</th>\n",
       "      <td>14776</td>\n",
       "      <td>0</td>\n",
       "      <td>1</td>\n",
       "      <td>1</td>\n",
       "      <td>1</td>\n",
       "      <td>500</td>\n",
       "      <td>1</td>\n",
       "      <td>0</td>\n",
       "      <td>0</td>\n",
       "      <td>6952</td>\n",
       "      <td>0</td>\n",
       "    </tr>\n",
       "    <tr>\n",
       "      <th>5</th>\n",
       "      <td>97752</td>\n",
       "      <td>0</td>\n",
       "      <td>4</td>\n",
       "      <td>1</td>\n",
       "      <td>1</td>\n",
       "      <td>43300</td>\n",
       "      <td>26</td>\n",
       "      <td>2077</td>\n",
       "      <td>4</td>\n",
       "      <td>6935</td>\n",
       "      <td>1</td>\n",
       "    </tr>\n",
       "  </tbody>\n",
       "</table>\n",
       "</div>"
      ],
      "text/plain": [
       "     Balance  Qual_miles  cc1_miles  cc2_miles  cc3_miles  Bonus_miles  \\\n",
       "ID#                                                                      \n",
       "1      28143           0          1          1          1          174   \n",
       "2      19244           0          1          1          1          215   \n",
       "3      41354           0          1          1          1         4123   \n",
       "4      14776           0          1          1          1          500   \n",
       "5      97752           0          4          1          1        43300   \n",
       "\n",
       "     Bonus_trans  Flight_miles_12mo  Flight_trans_12  Days_since_enroll  award  \n",
       "ID#                                                                             \n",
       "1              1                  0                0               7000      0  \n",
       "2              2                  0                0               6968      0  \n",
       "3              4                  0                0               7034      0  \n",
       "4              1                  0                0               6952      0  \n",
       "5             26               2077                4               6935      1  "
      ]
     },
     "execution_count": 2,
     "metadata": {},
     "output_type": "execute_result"
    }
   ],
   "source": [
    "raw_data = pd.read_excel(\"C:/Users/Admin/Documents/Assignments/7_Clustering/7Q2/EastWestAirlines.xlsx\",sheet_name='data',index_col=0)\n",
    "raw_data.rename(columns={'Award?':'award'}, inplace=True)\n",
    "raw_data.head()"
   ]
  },
  {
   "cell_type": "code",
   "execution_count": 3,
   "metadata": {
    "ExecuteTime": {
     "end_time": "2022-02-23T07:55:23.694644Z",
     "start_time": "2022-02-23T07:55:23.670631Z"
    }
   },
   "outputs": [
    {
     "name": "stdout",
     "output_type": "stream",
     "text": [
      "<class 'pandas.core.frame.DataFrame'>\n",
      "Int64Index: 3999 entries, 1 to 4021\n",
      "Data columns (total 11 columns):\n",
      " #   Column             Non-Null Count  Dtype\n",
      "---  ------             --------------  -----\n",
      " 0   Balance            3999 non-null   int64\n",
      " 1   Qual_miles         3999 non-null   int64\n",
      " 2   cc1_miles          3999 non-null   int64\n",
      " 3   cc2_miles          3999 non-null   int64\n",
      " 4   cc3_miles          3999 non-null   int64\n",
      " 5   Bonus_miles        3999 non-null   int64\n",
      " 6   Bonus_trans        3999 non-null   int64\n",
      " 7   Flight_miles_12mo  3999 non-null   int64\n",
      " 8   Flight_trans_12    3999 non-null   int64\n",
      " 9   Days_since_enroll  3999 non-null   int64\n",
      " 10  award              3999 non-null   int64\n",
      "dtypes: int64(11)\n",
      "memory usage: 374.9 KB\n"
     ]
    }
   ],
   "source": [
    "raw_data.info()\n",
    "#There are no null values & All are numercial values \n",
    "#There are total 10 features"
   ]
  },
  {
   "cell_type": "code",
   "execution_count": 4,
   "metadata": {
    "ExecuteTime": {
     "end_time": "2022-02-23T07:55:23.978042Z",
     "start_time": "2022-02-23T07:55:23.918470Z"
    },
    "scrolled": true
   },
   "outputs": [
    {
     "data": {
      "text/html": [
       "<div>\n",
       "<style scoped>\n",
       "    .dataframe tbody tr th:only-of-type {\n",
       "        vertical-align: middle;\n",
       "    }\n",
       "\n",
       "    .dataframe tbody tr th {\n",
       "        vertical-align: top;\n",
       "    }\n",
       "\n",
       "    .dataframe thead th {\n",
       "        text-align: right;\n",
       "    }\n",
       "</style>\n",
       "<table border=\"1\" class=\"dataframe\">\n",
       "  <thead>\n",
       "    <tr style=\"text-align: right;\">\n",
       "      <th></th>\n",
       "      <th>Balance</th>\n",
       "      <th>Qual_miles</th>\n",
       "      <th>cc1_miles</th>\n",
       "      <th>cc2_miles</th>\n",
       "      <th>cc3_miles</th>\n",
       "      <th>Bonus_miles</th>\n",
       "      <th>Bonus_trans</th>\n",
       "      <th>Flight_miles_12mo</th>\n",
       "      <th>Flight_trans_12</th>\n",
       "      <th>Days_since_enroll</th>\n",
       "      <th>award</th>\n",
       "    </tr>\n",
       "  </thead>\n",
       "  <tbody>\n",
       "    <tr>\n",
       "      <th>count</th>\n",
       "      <td>3.999000e+03</td>\n",
       "      <td>3999.000000</td>\n",
       "      <td>3999.000000</td>\n",
       "      <td>3999.000000</td>\n",
       "      <td>3999.000000</td>\n",
       "      <td>3999.000000</td>\n",
       "      <td>3999.00000</td>\n",
       "      <td>3999.000000</td>\n",
       "      <td>3999.000000</td>\n",
       "      <td>3999.00000</td>\n",
       "      <td>3999.000000</td>\n",
       "    </tr>\n",
       "    <tr>\n",
       "      <th>mean</th>\n",
       "      <td>7.360133e+04</td>\n",
       "      <td>144.114529</td>\n",
       "      <td>2.059515</td>\n",
       "      <td>1.014504</td>\n",
       "      <td>1.012253</td>\n",
       "      <td>17144.846212</td>\n",
       "      <td>11.60190</td>\n",
       "      <td>460.055764</td>\n",
       "      <td>1.373593</td>\n",
       "      <td>4118.55939</td>\n",
       "      <td>0.370343</td>\n",
       "    </tr>\n",
       "    <tr>\n",
       "      <th>std</th>\n",
       "      <td>1.007757e+05</td>\n",
       "      <td>773.663804</td>\n",
       "      <td>1.376919</td>\n",
       "      <td>0.147650</td>\n",
       "      <td>0.195241</td>\n",
       "      <td>24150.967826</td>\n",
       "      <td>9.60381</td>\n",
       "      <td>1400.209171</td>\n",
       "      <td>3.793172</td>\n",
       "      <td>2065.13454</td>\n",
       "      <td>0.482957</td>\n",
       "    </tr>\n",
       "    <tr>\n",
       "      <th>min</th>\n",
       "      <td>0.000000e+00</td>\n",
       "      <td>0.000000</td>\n",
       "      <td>1.000000</td>\n",
       "      <td>1.000000</td>\n",
       "      <td>1.000000</td>\n",
       "      <td>0.000000</td>\n",
       "      <td>0.00000</td>\n",
       "      <td>0.000000</td>\n",
       "      <td>0.000000</td>\n",
       "      <td>2.00000</td>\n",
       "      <td>0.000000</td>\n",
       "    </tr>\n",
       "    <tr>\n",
       "      <th>25%</th>\n",
       "      <td>1.852750e+04</td>\n",
       "      <td>0.000000</td>\n",
       "      <td>1.000000</td>\n",
       "      <td>1.000000</td>\n",
       "      <td>1.000000</td>\n",
       "      <td>1250.000000</td>\n",
       "      <td>3.00000</td>\n",
       "      <td>0.000000</td>\n",
       "      <td>0.000000</td>\n",
       "      <td>2330.00000</td>\n",
       "      <td>0.000000</td>\n",
       "    </tr>\n",
       "    <tr>\n",
       "      <th>50%</th>\n",
       "      <td>4.309700e+04</td>\n",
       "      <td>0.000000</td>\n",
       "      <td>1.000000</td>\n",
       "      <td>1.000000</td>\n",
       "      <td>1.000000</td>\n",
       "      <td>7171.000000</td>\n",
       "      <td>12.00000</td>\n",
       "      <td>0.000000</td>\n",
       "      <td>0.000000</td>\n",
       "      <td>4096.00000</td>\n",
       "      <td>0.000000</td>\n",
       "    </tr>\n",
       "    <tr>\n",
       "      <th>75%</th>\n",
       "      <td>9.240400e+04</td>\n",
       "      <td>0.000000</td>\n",
       "      <td>3.000000</td>\n",
       "      <td>1.000000</td>\n",
       "      <td>1.000000</td>\n",
       "      <td>23800.500000</td>\n",
       "      <td>17.00000</td>\n",
       "      <td>311.000000</td>\n",
       "      <td>1.000000</td>\n",
       "      <td>5790.50000</td>\n",
       "      <td>1.000000</td>\n",
       "    </tr>\n",
       "    <tr>\n",
       "      <th>max</th>\n",
       "      <td>1.704838e+06</td>\n",
       "      <td>11148.000000</td>\n",
       "      <td>5.000000</td>\n",
       "      <td>3.000000</td>\n",
       "      <td>5.000000</td>\n",
       "      <td>263685.000000</td>\n",
       "      <td>86.00000</td>\n",
       "      <td>30817.000000</td>\n",
       "      <td>53.000000</td>\n",
       "      <td>8296.00000</td>\n",
       "      <td>1.000000</td>\n",
       "    </tr>\n",
       "  </tbody>\n",
       "</table>\n",
       "</div>"
      ],
      "text/plain": [
       "            Balance    Qual_miles    cc1_miles    cc2_miles    cc3_miles  \\\n",
       "count  3.999000e+03   3999.000000  3999.000000  3999.000000  3999.000000   \n",
       "mean   7.360133e+04    144.114529     2.059515     1.014504     1.012253   \n",
       "std    1.007757e+05    773.663804     1.376919     0.147650     0.195241   \n",
       "min    0.000000e+00      0.000000     1.000000     1.000000     1.000000   \n",
       "25%    1.852750e+04      0.000000     1.000000     1.000000     1.000000   \n",
       "50%    4.309700e+04      0.000000     1.000000     1.000000     1.000000   \n",
       "75%    9.240400e+04      0.000000     3.000000     1.000000     1.000000   \n",
       "max    1.704838e+06  11148.000000     5.000000     3.000000     5.000000   \n",
       "\n",
       "         Bonus_miles  Bonus_trans  Flight_miles_12mo  Flight_trans_12  \\\n",
       "count    3999.000000   3999.00000        3999.000000      3999.000000   \n",
       "mean    17144.846212     11.60190         460.055764         1.373593   \n",
       "std     24150.967826      9.60381        1400.209171         3.793172   \n",
       "min         0.000000      0.00000           0.000000         0.000000   \n",
       "25%      1250.000000      3.00000           0.000000         0.000000   \n",
       "50%      7171.000000     12.00000           0.000000         0.000000   \n",
       "75%     23800.500000     17.00000         311.000000         1.000000   \n",
       "max    263685.000000     86.00000       30817.000000        53.000000   \n",
       "\n",
       "       Days_since_enroll        award  \n",
       "count         3999.00000  3999.000000  \n",
       "mean          4118.55939     0.370343  \n",
       "std           2065.13454     0.482957  \n",
       "min              2.00000     0.000000  \n",
       "25%           2330.00000     0.000000  \n",
       "50%           4096.00000     0.000000  \n",
       "75%           5790.50000     1.000000  \n",
       "max           8296.00000     1.000000  "
      ]
     },
     "execution_count": 4,
     "metadata": {},
     "output_type": "execute_result"
    }
   ],
   "source": [
    "raw_data.describe()"
   ]
  },
  {
   "cell_type": "code",
   "execution_count": 5,
   "metadata": {
    "ExecuteTime": {
     "end_time": "2022-02-23T07:55:24.137929Z",
     "start_time": "2022-02-23T07:55:24.121940Z"
    }
   },
   "outputs": [],
   "source": [
    "#EDA_report= pp.ProfileReport(raw_data)\n",
    "#EDA_report.to_file(output_file='Airliner.html') "
   ]
  },
  {
   "cell_type": "code",
   "execution_count": 6,
   "metadata": {
    "ExecuteTime": {
     "end_time": "2022-02-23T07:55:24.739427Z",
     "start_time": "2022-02-23T07:55:24.329829Z"
    }
   },
   "outputs": [
    {
     "data": {
      "text/plain": [
       "<AxesSubplot:>"
      ]
     },
     "execution_count": 6,
     "metadata": {},
     "output_type": "execute_result"
    },
    {
     "data": {
      "image/png": "[encoded data removed]",
      "text/plain": [
       "<Figure size 1440x360 with 1 Axes>"
      ]
     },
     "metadata": {},
     "output_type": "display_data"
    }
   ],
   "source": [
    "sns.set(rc={'figure.figsize':(20,5)})\n",
    "sns.boxplot(data=raw_data, orient=\"v\", palette=\"Set2\") \n",
    "#There are major outliers in the case of balance and bonus_miles. \n",
    "#However, we cannot remove those outliers since the data may actually be true depending on the person travelling."
   ]
  },
  {
   "cell_type": "markdown",
   "metadata": {},
   "source": [
    "## Feature Analysis\n",
    "\n",
    "All features in the dataset can be used in model building. All values are numerical and no additional dummy variable creation is required. All values represent very specific characteristics of each person flying and this in turn would be great for clusting."
   ]
  },
  {
   "cell_type": "markdown",
   "metadata": {},
   "source": [
    "## Standardizing the Data"
   ]
  },
  {
   "cell_type": "code",
   "execution_count": 7,
   "metadata": {
    "ExecuteTime": {
     "end_time": "2022-02-23T07:55:25.233676Z",
     "start_time": "2022-02-23T07:55:25.209629Z"
    }
   },
   "outputs": [],
   "source": [
    "from sklearn.preprocessing import StandardScaler\n",
    "scaler = StandardScaler()\n",
    "scaled_data = scaler.fit_transform(raw_data.iloc[:,0:])"
   ]
  },
  {
   "cell_type": "markdown",
   "metadata": {},
   "source": [
    "## Normalize the Data\n"
   ]
  },
  {
   "cell_type": "code",
   "execution_count": 8,
   "metadata": {
    "ExecuteTime": {
     "end_time": "2022-02-23T07:55:26.103019Z",
     "start_time": "2022-02-23T07:55:26.087001Z"
    }
   },
   "outputs": [
    {
     "name": "stdout",
     "output_type": "stream",
     "text": [
      "[[1.65e-02 0.00e+00 0.00e+00 0.00e+00 0.00e+00 6.60e-04 1.16e-02 0.00e+00\n",
      "  0.00e+00 8.44e-01 0.00e+00]\n",
      " [1.13e-02 0.00e+00 0.00e+00 0.00e+00 0.00e+00 8.15e-04 2.33e-02 0.00e+00\n",
      "  0.00e+00 8.40e-01 0.00e+00]\n",
      " [2.43e-02 0.00e+00 0.00e+00 0.00e+00 0.00e+00 1.56e-02 4.65e-02 0.00e+00\n",
      "  0.00e+00 8.48e-01 0.00e+00]\n",
      " [8.67e-03 0.00e+00 0.00e+00 0.00e+00 0.00e+00 1.90e-03 1.16e-02 0.00e+00\n",
      "  0.00e+00 8.38e-01 0.00e+00]\n",
      " [5.73e-02 0.00e+00 7.50e-01 0.00e+00 0.00e+00 1.64e-01 3.02e-01 6.74e-02\n",
      "  7.55e-02 8.36e-01 1.00e+00]]\n"
     ]
    }
   ],
   "source": [
    "from numpy import set_printoptions\n",
    "from sklearn.preprocessing import MinMaxScaler\n",
    "\n",
    "array = raw_data.iloc[:,0:]\n",
    "\n",
    "norm_scaler = MinMaxScaler(feature_range=(0,1))\n",
    "normscaled = norm_scaler.fit_transform(array)\n",
    "\n",
    "#transformed data\n",
    "set_printoptions(precision=2)\n",
    "print(normscaled[:5])\n"
   ]
  },
  {
   "cell_type": "markdown",
   "metadata": {},
   "source": [
    "## K-Means Clustering\n",
    "\n",
    "#### Finding optimum number of clusters."
   ]
  },
  {
   "cell_type": "code",
   "execution_count": 9,
   "metadata": {
    "ExecuteTime": {
     "end_time": "2022-02-23T07:55:29.202876Z",
     "start_time": "2022-02-23T07:55:26.937881Z"
    },
    "scrolled": true
   },
   "outputs": [
    {
     "data": {
      "image/png": "[encoded data removed]",
      "text/plain": [
       "<Figure size 720x360 with 1 Axes>"
      ]
     },
     "metadata": {},
     "output_type": "display_data"
    }
   ],
   "source": [
    "wcss = []\n",
    "for i in range(1, 11):\n",
    "    kmeans = KMeans(n_clusters=i,random_state=0)\n",
    "    kmeans.fit(scaled_data)\n",
    "    wcss.append(kmeans.inertia_)\n",
    "\n",
    "sns.set(rc={'figure.figsize':(10,5)}) \n",
    "plt.plot(range(1, 11), wcss)\n",
    "plt.title('Elbow Method')\n",
    "plt.xlabel('Number of clusters')\n",
    "plt.ylabel('WCSS')\n",
    "plt.show()\n",
    "\n",
    "# Number of clusters(optimum) = 5"
   ]
  },
  {
   "cell_type": "markdown",
   "metadata": {},
   "source": [
    "#### Building Clustering Algorithm"
   ]
  },
  {
   "cell_type": "code",
   "execution_count": 10,
   "metadata": {
    "ExecuteTime": {
     "end_time": "2022-02-23T07:55:30.377184Z",
     "start_time": "2022-02-23T07:55:30.183796Z"
    }
   },
   "outputs": [
    {
     "data": {
      "text/plain": [
       "KMeans(n_clusters=5, random_state=5)"
      ]
     },
     "execution_count": 10,
     "metadata": {},
     "output_type": "execute_result"
    }
   ],
   "source": [
    "clusters_kmeans = KMeans(5, random_state=5)\n",
    "clusters_kmeans.fit(scaled_data)"
   ]
  },
  {
   "cell_type": "markdown",
   "metadata": {},
   "source": [
    "#### Get Clusters.labels_"
   ]
  },
  {
   "cell_type": "code",
   "execution_count": 11,
   "metadata": {
    "ExecuteTime": {
     "end_time": "2022-02-23T07:55:30.938670Z",
     "start_time": "2022-02-23T07:55:30.914968Z"
    }
   },
   "outputs": [
    {
     "data": {
      "text/plain": [
       "array([3, 3, 3, ..., 0, 3, 3])"
      ]
     },
     "execution_count": 11,
     "metadata": {},
     "output_type": "execute_result"
    }
   ],
   "source": [
    "clusters_kmeans.labels_"
   ]
  },
  {
   "cell_type": "code",
   "execution_count": 12,
   "metadata": {
    "ExecuteTime": {
     "end_time": "2022-02-23T07:55:31.298717Z",
     "start_time": "2022-02-23T07:55:31.290750Z"
    }
   },
   "outputs": [],
   "source": [
    "#Assigning clusters to the datset\n",
    "#Assign clusters to the data set\n",
    "data_kmeans = raw_data.copy()\n",
    "data_kmeans['clusters_kmeans'] = clusters_kmeans.labels_"
   ]
  },
  {
   "cell_type": "code",
   "execution_count": 13,
   "metadata": {
    "ExecuteTime": {
     "end_time": "2022-02-23T07:55:31.723365Z",
     "start_time": "2022-02-23T07:55:31.715367Z"
    },
    "scrolled": true
   },
   "outputs": [
    {
     "data": {
      "text/plain": [
       "array([[-1.56e-01,  1.07e-01, -2.84e-01,  2.23e-01, -6.28e-02, -2.69e-01,\n",
       "        -8.61e-02, -3.30e-02, -3.07e-02,  6.09e-02,  1.26e+00],\n",
       "       [ 1.22e+00,  7.94e-01,  1.40e-01,  1.78e-01, -6.28e-02,  6.88e-01,\n",
       "         1.73e+00,  3.74e+00,  4.03e+00,  2.65e-01,  8.95e-01],\n",
       "       [ 6.29e-01, -1.11e-02,  1.48e+00, -9.08e-02, -5.15e-02,  1.26e+00,\n",
       "         8.35e-01, -7.05e-02, -7.12e-02,  4.57e-01,  4.40e-01],\n",
       "       [-3.02e-01, -9.37e-02, -5.48e-01, -6.25e-02, -6.03e-02, -5.13e-01,\n",
       "        -4.63e-01, -2.20e-01, -2.41e-01, -2.44e-01, -7.67e-01],\n",
       "       [ 6.40e-01, -8.44e-02,  1.02e+00, -9.82e-02,  1.56e+01,  3.18e+00,\n",
       "         1.71e+00,  3.33e-02,  5.97e-02,  2.40e-01,  3.38e-01]])"
      ]
     },
     "execution_count": 13,
     "metadata": {},
     "output_type": "execute_result"
    }
   ],
   "source": [
    "#cluster_centers values. https://scikit-learn.org/stable/modules/generated/sklearn.cluster.KMeans.html\n",
    "clusters_kmeans.cluster_centers_"
   ]
  },
  {
   "cell_type": "markdown",
   "metadata": {},
   "source": [
    "#### Model Evaluation & Visualisation"
   ]
  },
  {
   "cell_type": "code",
   "execution_count": 14,
   "metadata": {
    "ExecuteTime": {
     "end_time": "2022-02-23T07:55:32.577016Z",
     "start_time": "2022-02-23T07:55:32.513025Z"
    },
    "scrolled": true
   },
   "outputs": [
    {
     "data": {
      "text/html": [
       "<div>\n",
       "<style scoped>\n",
       "    .dataframe tbody tr th:only-of-type {\n",
       "        vertical-align: middle;\n",
       "    }\n",
       "\n",
       "    .dataframe tbody tr th {\n",
       "        vertical-align: top;\n",
       "    }\n",
       "\n",
       "    .dataframe thead tr th {\n",
       "        text-align: left;\n",
       "    }\n",
       "\n",
       "    .dataframe thead tr:last-of-type th {\n",
       "        text-align: right;\n",
       "    }\n",
       "</style>\n",
       "<table border=\"1\" class=\"dataframe\">\n",
       "  <thead>\n",
       "    <tr>\n",
       "      <th></th>\n",
       "      <th>Balance</th>\n",
       "      <th>Qual_miles</th>\n",
       "      <th>cc1_miles</th>\n",
       "      <th>cc2_miles</th>\n",
       "      <th>cc3_miles</th>\n",
       "      <th>Bonus_miles</th>\n",
       "      <th>Bonus_trans</th>\n",
       "      <th>Flight_miles_12mo</th>\n",
       "      <th>Flight_trans_12</th>\n",
       "      <th>Days_since_enroll</th>\n",
       "      <th>award</th>\n",
       "    </tr>\n",
       "    <tr>\n",
       "      <th></th>\n",
       "      <th>mean</th>\n",
       "      <th>mean</th>\n",
       "      <th>mean</th>\n",
       "      <th>mean</th>\n",
       "      <th>mean</th>\n",
       "      <th>mean</th>\n",
       "      <th>mean</th>\n",
       "      <th>mean</th>\n",
       "      <th>mean</th>\n",
       "      <th>mean</th>\n",
       "      <th>mean</th>\n",
       "    </tr>\n",
       "    <tr>\n",
       "      <th>clusters_kmeans</th>\n",
       "      <th></th>\n",
       "      <th></th>\n",
       "      <th></th>\n",
       "      <th></th>\n",
       "      <th></th>\n",
       "      <th></th>\n",
       "      <th></th>\n",
       "      <th></th>\n",
       "      <th></th>\n",
       "      <th></th>\n",
       "      <th></th>\n",
       "    </tr>\n",
       "  </thead>\n",
       "  <tbody>\n",
       "    <tr>\n",
       "      <th>0</th>\n",
       "      <td>57838.558057</td>\n",
       "      <td>226.620853</td>\n",
       "      <td>1.668246</td>\n",
       "      <td>1.047393</td>\n",
       "      <td>1.000000</td>\n",
       "      <td>10660.911137</td>\n",
       "      <td>10.774882</td>\n",
       "      <td>413.921801</td>\n",
       "      <td>1.257109</td>\n",
       "      <td>4244.225118</td>\n",
       "      <td>0.978673</td>\n",
       "    </tr>\n",
       "    <tr>\n",
       "      <th>1</th>\n",
       "      <td>196858.374150</td>\n",
       "      <td>758.013605</td>\n",
       "      <td>2.251701</td>\n",
       "      <td>1.040816</td>\n",
       "      <td>1.000000</td>\n",
       "      <td>33761.455782</td>\n",
       "      <td>28.244898</td>\n",
       "      <td>5698.258503</td>\n",
       "      <td>16.673469</td>\n",
       "      <td>4665.251701</td>\n",
       "      <td>0.802721</td>\n",
       "    </tr>\n",
       "    <tr>\n",
       "      <th>2</th>\n",
       "      <td>137001.447137</td>\n",
       "      <td>135.550661</td>\n",
       "      <td>4.101322</td>\n",
       "      <td>1.001101</td>\n",
       "      <td>1.002203</td>\n",
       "      <td>47654.542952</td>\n",
       "      <td>19.617841</td>\n",
       "      <td>361.351322</td>\n",
       "      <td>1.103524</td>\n",
       "      <td>5063.031938</td>\n",
       "      <td>0.582599</td>\n",
       "    </tr>\n",
       "    <tr>\n",
       "      <th>3</th>\n",
       "      <td>43218.009592</td>\n",
       "      <td>71.633573</td>\n",
       "      <td>1.305036</td>\n",
       "      <td>1.005276</td>\n",
       "      <td>1.000480</td>\n",
       "      <td>4758.874820</td>\n",
       "      <td>7.153957</td>\n",
       "      <td>152.068106</td>\n",
       "      <td>0.458034</td>\n",
       "      <td>3614.273381</td>\n",
       "      <td>0.000000</td>\n",
       "    </tr>\n",
       "    <tr>\n",
       "      <th>4</th>\n",
       "      <td>138061.400000</td>\n",
       "      <td>78.800000</td>\n",
       "      <td>3.466667</td>\n",
       "      <td>1.000000</td>\n",
       "      <td>4.066667</td>\n",
       "      <td>93927.866667</td>\n",
       "      <td>28.066667</td>\n",
       "      <td>506.666667</td>\n",
       "      <td>1.600000</td>\n",
       "      <td>4613.866667</td>\n",
       "      <td>0.533333</td>\n",
       "    </tr>\n",
       "  </tbody>\n",
       "</table>\n",
       "</div>"
      ],
      "text/plain": [
       "                       Balance  Qual_miles cc1_miles cc2_miles cc3_miles  \\\n",
       "                          mean        mean      mean      mean      mean   \n",
       "clusters_kmeans                                                            \n",
       "0                 57838.558057  226.620853  1.668246  1.047393  1.000000   \n",
       "1                196858.374150  758.013605  2.251701  1.040816  1.000000   \n",
       "2                137001.447137  135.550661  4.101322  1.001101  1.002203   \n",
       "3                 43218.009592   71.633573  1.305036  1.005276  1.000480   \n",
       "4                138061.400000   78.800000  3.466667  1.000000  4.066667   \n",
       "\n",
       "                  Bonus_miles Bonus_trans Flight_miles_12mo Flight_trans_12  \\\n",
       "                         mean        mean              mean            mean   \n",
       "clusters_kmeans                                                               \n",
       "0                10660.911137   10.774882        413.921801        1.257109   \n",
       "1                33761.455782   28.244898       5698.258503       16.673469   \n",
       "2                47654.542952   19.617841        361.351322        1.103524   \n",
       "3                 4758.874820    7.153957        152.068106        0.458034   \n",
       "4                93927.866667   28.066667        506.666667        1.600000   \n",
       "\n",
       "                Days_since_enroll     award  \n",
       "                             mean      mean  \n",
       "clusters_kmeans                              \n",
       "0                     4244.225118  0.978673  \n",
       "1                     4665.251701  0.802721  \n",
       "2                     5063.031938  0.582599  \n",
       "3                     3614.273381  0.000000  \n",
       "4                     4613.866667  0.533333  "
      ]
     },
     "execution_count": 14,
     "metadata": {},
     "output_type": "execute_result"
    }
   ],
   "source": [
    "data_kmeans.groupby('clusters_kmeans').agg(['mean'])"
   ]
  },
  {
   "cell_type": "code",
   "execution_count": 15,
   "metadata": {
    "ExecuteTime": {
     "end_time": "2022-02-23T07:55:33.164627Z",
     "start_time": "2022-02-23T07:55:33.140614Z"
    },
    "scrolled": true
   },
   "outputs": [
    {
     "data": {
      "text/plain": [
       "3    2085\n",
       "2     908\n",
       "0     844\n",
       "1     147\n",
       "4      15\n",
       "Name: clusters_kmeans, dtype: int64"
      ]
     },
     "execution_count": 15,
     "metadata": {},
     "output_type": "execute_result"
    }
   ],
   "source": [
    "data_kmeans['clusters_kmeans'].value_counts()"
   ]
  },
  {
   "cell_type": "code",
   "execution_count": 16,
   "metadata": {
    "ExecuteTime": {
     "end_time": "2022-02-23T07:55:34.024801Z",
     "start_time": "2022-02-23T07:55:34.000935Z"
    },
    "scrolled": false
   },
   "outputs": [
    {
     "data": {
      "text/html": [
       "<div>\n",
       "<style scoped>\n",
       "    .dataframe tbody tr th:only-of-type {\n",
       "        vertical-align: middle;\n",
       "    }\n",
       "\n",
       "    .dataframe tbody tr th {\n",
       "        vertical-align: top;\n",
       "    }\n",
       "\n",
       "    .dataframe thead th {\n",
       "        text-align: right;\n",
       "    }\n",
       "</style>\n",
       "<table border=\"1\" class=\"dataframe\">\n",
       "  <thead>\n",
       "    <tr style=\"text-align: right;\">\n",
       "      <th></th>\n",
       "      <th>Balance</th>\n",
       "      <th>Qual_miles</th>\n",
       "      <th>cc1_miles</th>\n",
       "      <th>cc2_miles</th>\n",
       "      <th>cc3_miles</th>\n",
       "      <th>Bonus_miles</th>\n",
       "      <th>Bonus_trans</th>\n",
       "      <th>Flight_miles_12mo</th>\n",
       "      <th>Flight_trans_12</th>\n",
       "      <th>Days_since_enroll</th>\n",
       "      <th>award</th>\n",
       "      <th>clusters_kmeans</th>\n",
       "    </tr>\n",
       "    <tr>\n",
       "      <th>ID#</th>\n",
       "      <th></th>\n",
       "      <th></th>\n",
       "      <th></th>\n",
       "      <th></th>\n",
       "      <th></th>\n",
       "      <th></th>\n",
       "      <th></th>\n",
       "      <th></th>\n",
       "      <th></th>\n",
       "      <th></th>\n",
       "      <th></th>\n",
       "      <th></th>\n",
       "    </tr>\n",
       "  </thead>\n",
       "  <tbody>\n",
       "    <tr>\n",
       "      <th>1</th>\n",
       "      <td>28143</td>\n",
       "      <td>0</td>\n",
       "      <td>1</td>\n",
       "      <td>1</td>\n",
       "      <td>1</td>\n",
       "      <td>174</td>\n",
       "      <td>1</td>\n",
       "      <td>0</td>\n",
       "      <td>0</td>\n",
       "      <td>7000</td>\n",
       "      <td>0</td>\n",
       "      <td>3</td>\n",
       "    </tr>\n",
       "    <tr>\n",
       "      <th>2</th>\n",
       "      <td>19244</td>\n",
       "      <td>0</td>\n",
       "      <td>1</td>\n",
       "      <td>1</td>\n",
       "      <td>1</td>\n",
       "      <td>215</td>\n",
       "      <td>2</td>\n",
       "      <td>0</td>\n",
       "      <td>0</td>\n",
       "      <td>6968</td>\n",
       "      <td>0</td>\n",
       "      <td>3</td>\n",
       "    </tr>\n",
       "    <tr>\n",
       "      <th>3</th>\n",
       "      <td>41354</td>\n",
       "      <td>0</td>\n",
       "      <td>1</td>\n",
       "      <td>1</td>\n",
       "      <td>1</td>\n",
       "      <td>4123</td>\n",
       "      <td>4</td>\n",
       "      <td>0</td>\n",
       "      <td>0</td>\n",
       "      <td>7034</td>\n",
       "      <td>0</td>\n",
       "      <td>3</td>\n",
       "    </tr>\n",
       "    <tr>\n",
       "      <th>4</th>\n",
       "      <td>14776</td>\n",
       "      <td>0</td>\n",
       "      <td>1</td>\n",
       "      <td>1</td>\n",
       "      <td>1</td>\n",
       "      <td>500</td>\n",
       "      <td>1</td>\n",
       "      <td>0</td>\n",
       "      <td>0</td>\n",
       "      <td>6952</td>\n",
       "      <td>0</td>\n",
       "      <td>3</td>\n",
       "    </tr>\n",
       "    <tr>\n",
       "      <th>5</th>\n",
       "      <td>97752</td>\n",
       "      <td>0</td>\n",
       "      <td>4</td>\n",
       "      <td>1</td>\n",
       "      <td>1</td>\n",
       "      <td>43300</td>\n",
       "      <td>26</td>\n",
       "      <td>2077</td>\n",
       "      <td>4</td>\n",
       "      <td>6935</td>\n",
       "      <td>1</td>\n",
       "      <td>2</td>\n",
       "    </tr>\n",
       "  </tbody>\n",
       "</table>\n",
       "</div>"
      ],
      "text/plain": [
       "     Balance  Qual_miles  cc1_miles  cc2_miles  cc3_miles  Bonus_miles  \\\n",
       "ID#                                                                      \n",
       "1      28143           0          1          1          1          174   \n",
       "2      19244           0          1          1          1          215   \n",
       "3      41354           0          1          1          1         4123   \n",
       "4      14776           0          1          1          1          500   \n",
       "5      97752           0          4          1          1        43300   \n",
       "\n",
       "     Bonus_trans  Flight_miles_12mo  Flight_trans_12  Days_since_enroll  \\\n",
       "ID#                                                                       \n",
       "1              1                  0                0               7000   \n",
       "2              2                  0                0               6968   \n",
       "3              4                  0                0               7034   \n",
       "4              1                  0                0               6952   \n",
       "5             26               2077                4               6935   \n",
       "\n",
       "     award  clusters_kmeans  \n",
       "ID#                          \n",
       "1        0                3  \n",
       "2        0                3  \n",
       "3        0                3  \n",
       "4        0                3  \n",
       "5        1                2  "
      ]
     },
     "execution_count": 16,
     "metadata": {},
     "output_type": "execute_result"
    }
   ],
   "source": [
    "data_kmeans.head()"
   ]
  },
  {
   "cell_type": "code",
   "execution_count": 17,
   "metadata": {
    "ExecuteTime": {
     "end_time": "2022-02-23T07:55:34.866526Z",
     "start_time": "2022-02-23T07:55:34.842541Z"
    }
   },
   "outputs": [],
   "source": [
    "#Visualising the data via dimensionality reduction\n",
    "from sklearn.decomposition import PCA\n",
    "\n",
    "pca = PCA(n_components=2).fit(scaled_data)\n",
    "pca_2d = pca.transform(scaled_data)"
   ]
  },
  {
   "cell_type": "code",
   "execution_count": 19,
   "metadata": {
    "ExecuteTime": {
     "end_time": "2022-02-23T07:56:53.227986Z",
     "start_time": "2022-02-23T07:56:24.883530Z"
    }
   },
   "outputs": [
    {
     "data": {
      "image/png": "[encoded data removed]",
      "text/plain": [
       "<Figure size 1440x1440 with 1 Axes>"
      ]
     },
     "metadata": {},
     "output_type": "display_data"
    }
   ],
   "source": [
    "import pylab as pl\n",
    "\n",
    "sns.set(rc={'figure.figsize':(20,20)})\n",
    "\n",
    "for i in range(0, pca_2d.shape[0]):\n",
    "    if kmeans.labels_[i] == 0:\n",
    "        c1 = pl.scatter(pca_2d[i,0],pca_2d[i,1],c='r', marker='+')\n",
    "    elif kmeans.labels_[i] == 1:\n",
    "        c2 = pl.scatter(pca_2d[i,0],pca_2d[i,1],c='g', marker='o')\n",
    "    elif kmeans.labels_[i] == 2:\n",
    "        c3 = pl.scatter(pca_2d[i,0],pca_2d[i,1],c='b', marker='*')\n",
    "    elif kmeans.labels_[i] == 3:\n",
    "        c4 = pl.scatter(pca_2d[i,0],pca_2d[i,1],c='m', marker='v')\n",
    "    elif kmeans.labels_[i] == 4:\n",
    "        c5 = pl.scatter(pca_2d[i,0],pca_2d[i,1],c='#EDB120', marker='p')\n",
    "        \n",
    "pl.legend([c1, c2, c3, c4, c5], ['Cluster1', 'Cluster2','Cluster3', 'Cluster4','Cluster5'])\n",
    "pl.title('Airline dataset with K-Means Clustering')\n",
    "pl.show()"
   ]
  },
  {
   "cell_type": "markdown",
   "metadata": {},
   "source": [
    "## Heirarchial Agglomerative Clustering\n",
    "\n",
    "#### Identifying the hyperparameters\n",
    "\n",
    "- Number of Clusters could be 4 just as in previous case.\n",
    "- euclidean distance can be followed\n",
    "- linkage will be single"
   ]
  },
  {
   "cell_type": "markdown",
   "metadata": {},
   "source": [
    "#### Making a dentogram"
   ]
  },
  {
   "cell_type": "code",
   "execution_count": 20,
   "metadata": {
    "ExecuteTime": {
     "end_time": "2022-02-23T07:57:00.631188Z",
     "start_time": "2022-02-23T07:57:00.602018Z"
    }
   },
   "outputs": [],
   "source": [
    "import scipy.cluster.hierarchy as sch\n",
    "#dentogram linkage takes too much time to process. Not adivasable\n",
    "#dendrogram = sch.dendrogram(sch.linkage(normscaled, method='single'))"
   ]
  },
  {
   "cell_type": "markdown",
   "metadata": {},
   "source": [
    "#### Building Agglomerative clustering model"
   ]
  },
  {
   "cell_type": "code",
   "execution_count": 21,
   "metadata": {
    "ExecuteTime": {
     "end_time": "2022-02-23T07:57:01.888082Z",
     "start_time": "2022-02-23T07:57:01.435539Z"
    },
    "scrolled": true
   },
   "outputs": [],
   "source": [
    "hc = AgglomerativeClustering(n_clusters=5, affinity = 'euclidean', linkage = 'complete')\n",
    "y_hc = hc.fit_predict(normscaled)"
   ]
  },
  {
   "cell_type": "markdown",
   "metadata": {},
   "source": [
    "#### Get Clusters.labels_"
   ]
  },
  {
   "cell_type": "code",
   "execution_count": 22,
   "metadata": {
    "ExecuteTime": {
     "end_time": "2022-02-23T07:57:02.440029Z",
     "start_time": "2022-02-23T07:57:02.432030Z"
    }
   },
   "outputs": [
    {
     "data": {
      "text/plain": [
       "array([0, 0, 0, ..., 2, 0, 0], dtype=int64)"
      ]
     },
     "execution_count": 22,
     "metadata": {},
     "output_type": "execute_result"
    }
   ],
   "source": [
    "y_hc"
   ]
  },
  {
   "cell_type": "code",
   "execution_count": 23,
   "metadata": {
    "ExecuteTime": {
     "end_time": "2022-02-23T07:57:02.970123Z",
     "start_time": "2022-02-23T07:57:02.954131Z"
    },
    "scrolled": true
   },
   "outputs": [
    {
     "data": {
      "text/plain": [
       "0    2495\n",
       "2    1144\n",
       "1     325\n",
       "4      31\n",
       "3       4\n",
       "Name: clusters_agglo, dtype: int64"
      ]
     },
     "execution_count": 23,
     "metadata": {},
     "output_type": "execute_result"
    }
   ],
   "source": [
    "data_agglo = raw_data.copy()\n",
    "data_agglo['clusters_agglo'] = y_hc\n",
    "data_agglo.clusters_agglo.value_counts()"
   ]
  },
  {
   "cell_type": "markdown",
   "metadata": {},
   "source": [
    "#### Model Evaluation & Visualisation"
   ]
  },
  {
   "cell_type": "code",
   "execution_count": 24,
   "metadata": {
    "ExecuteTime": {
     "end_time": "2022-02-23T07:57:03.845574Z",
     "start_time": "2022-02-23T07:57:03.781615Z"
    }
   },
   "outputs": [
    {
     "data": {
      "text/html": [
       "<div>\n",
       "<style scoped>\n",
       "    .dataframe tbody tr th:only-of-type {\n",
       "        vertical-align: middle;\n",
       "    }\n",
       "\n",
       "    .dataframe tbody tr th {\n",
       "        vertical-align: top;\n",
       "    }\n",
       "\n",
       "    .dataframe thead tr th {\n",
       "        text-align: left;\n",
       "    }\n",
       "\n",
       "    .dataframe thead tr:last-of-type th {\n",
       "        text-align: right;\n",
       "    }\n",
       "</style>\n",
       "<table border=\"1\" class=\"dataframe\">\n",
       "  <thead>\n",
       "    <tr>\n",
       "      <th></th>\n",
       "      <th>Balance</th>\n",
       "      <th>Qual_miles</th>\n",
       "      <th>cc1_miles</th>\n",
       "      <th>cc2_miles</th>\n",
       "      <th>cc3_miles</th>\n",
       "      <th>Bonus_miles</th>\n",
       "      <th>Bonus_trans</th>\n",
       "      <th>Flight_miles_12mo</th>\n",
       "      <th>Flight_trans_12</th>\n",
       "      <th>Days_since_enroll</th>\n",
       "      <th>award</th>\n",
       "    </tr>\n",
       "    <tr>\n",
       "      <th></th>\n",
       "      <th>mean</th>\n",
       "      <th>mean</th>\n",
       "      <th>mean</th>\n",
       "      <th>mean</th>\n",
       "      <th>mean</th>\n",
       "      <th>mean</th>\n",
       "      <th>mean</th>\n",
       "      <th>mean</th>\n",
       "      <th>mean</th>\n",
       "      <th>mean</th>\n",
       "      <th>mean</th>\n",
       "    </tr>\n",
       "    <tr>\n",
       "      <th>clusters_agglo</th>\n",
       "      <th></th>\n",
       "      <th></th>\n",
       "      <th></th>\n",
       "      <th></th>\n",
       "      <th></th>\n",
       "      <th></th>\n",
       "      <th></th>\n",
       "      <th></th>\n",
       "      <th></th>\n",
       "      <th></th>\n",
       "      <th></th>\n",
       "    </tr>\n",
       "  </thead>\n",
       "  <tbody>\n",
       "    <tr>\n",
       "      <th>0</th>\n",
       "      <td>59968.433667</td>\n",
       "      <td>88.883768</td>\n",
       "      <td>1.712224</td>\n",
       "      <td>1.000401</td>\n",
       "      <td>1.011222</td>\n",
       "      <td>10271.530261</td>\n",
       "      <td>9.105812</td>\n",
       "      <td>227.797194</td>\n",
       "      <td>0.656112</td>\n",
       "      <td>3825.392786</td>\n",
       "      <td>0.000802</td>\n",
       "    </tr>\n",
       "    <tr>\n",
       "      <th>1</th>\n",
       "      <td>157084.578462</td>\n",
       "      <td>208.673846</td>\n",
       "      <td>4.661538</td>\n",
       "      <td>1.000000</td>\n",
       "      <td>1.061538</td>\n",
       "      <td>70477.086154</td>\n",
       "      <td>23.249231</td>\n",
       "      <td>1019.433846</td>\n",
       "      <td>3.196923</td>\n",
       "      <td>5770.572308</td>\n",
       "      <td>1.000000</td>\n",
       "    </tr>\n",
       "    <tr>\n",
       "      <th>2</th>\n",
       "      <td>80173.963287</td>\n",
       "      <td>248.550699</td>\n",
       "      <td>2.104895</td>\n",
       "      <td>1.009615</td>\n",
       "      <td>1.000874</td>\n",
       "      <td>16882.864510</td>\n",
       "      <td>13.412587</td>\n",
       "      <td>739.958916</td>\n",
       "      <td>2.236888</td>\n",
       "      <td>4304.383741</td>\n",
       "      <td>1.000000</td>\n",
       "    </tr>\n",
       "    <tr>\n",
       "      <th>3</th>\n",
       "      <td>131999.500000</td>\n",
       "      <td>347.000000</td>\n",
       "      <td>2.500000</td>\n",
       "      <td>1.000000</td>\n",
       "      <td>1.000000</td>\n",
       "      <td>65634.250000</td>\n",
       "      <td>69.250000</td>\n",
       "      <td>19960.000000</td>\n",
       "      <td>49.250000</td>\n",
       "      <td>2200.250000</td>\n",
       "      <td>1.000000</td>\n",
       "    </tr>\n",
       "    <tr>\n",
       "      <th>4</th>\n",
       "      <td>45515.064516</td>\n",
       "      <td>32.258065</td>\n",
       "      <td>1.000000</td>\n",
       "      <td>2.483871</td>\n",
       "      <td>1.000000</td>\n",
       "      <td>14618.870968</td>\n",
       "      <td>16.129032</td>\n",
       "      <td>443.225806</td>\n",
       "      <td>1.967742</td>\n",
       "      <td>3784.258065</td>\n",
       "      <td>0.193548</td>\n",
       "    </tr>\n",
       "  </tbody>\n",
       "</table>\n",
       "</div>"
      ],
      "text/plain": [
       "                      Balance  Qual_miles cc1_miles cc2_miles cc3_miles  \\\n",
       "                         mean        mean      mean      mean      mean   \n",
       "clusters_agglo                                                            \n",
       "0                59968.433667   88.883768  1.712224  1.000401  1.011222   \n",
       "1               157084.578462  208.673846  4.661538  1.000000  1.061538   \n",
       "2                80173.963287  248.550699  2.104895  1.009615  1.000874   \n",
       "3               131999.500000  347.000000  2.500000  1.000000  1.000000   \n",
       "4                45515.064516   32.258065  1.000000  2.483871  1.000000   \n",
       "\n",
       "                 Bonus_miles Bonus_trans Flight_miles_12mo Flight_trans_12  \\\n",
       "                        mean        mean              mean            mean   \n",
       "clusters_agglo                                                               \n",
       "0               10271.530261    9.105812        227.797194        0.656112   \n",
       "1               70477.086154   23.249231       1019.433846        3.196923   \n",
       "2               16882.864510   13.412587        739.958916        2.236888   \n",
       "3               65634.250000   69.250000      19960.000000       49.250000   \n",
       "4               14618.870968   16.129032        443.225806        1.967742   \n",
       "\n",
       "               Days_since_enroll     award  \n",
       "                            mean      mean  \n",
       "clusters_agglo                              \n",
       "0                    3825.392786  0.000802  \n",
       "1                    5770.572308  1.000000  \n",
       "2                    4304.383741  1.000000  \n",
       "3                    2200.250000  1.000000  \n",
       "4                    3784.258065  0.193548  "
      ]
     },
     "execution_count": 24,
     "metadata": {},
     "output_type": "execute_result"
    }
   ],
   "source": [
    "data_agglo.groupby('clusters_agglo').agg(['mean'])"
   ]
  },
  {
   "cell_type": "code",
   "execution_count": 25,
   "metadata": {
    "ExecuteTime": {
     "end_time": "2022-02-23T07:57:04.762931Z",
     "start_time": "2022-02-23T07:57:04.730925Z"
    }
   },
   "outputs": [],
   "source": [
    "#Visualising the data via dimensionality reduction\n",
    "\n",
    "pca_agg = PCA(n_components=2).fit(normscaled)\n",
    "pca_2d_agg = pca_agg.transform(normscaled)"
   ]
  },
  {
   "cell_type": "code",
   "execution_count": 26,
   "metadata": {
    "ExecuteTime": {
     "end_time": "2022-02-23T07:57:42.468951Z",
     "start_time": "2022-02-23T07:57:06.052681Z"
    }
   },
   "outputs": [
    {
     "data": {
      "image/png": "[encoded data removed]",
      "text/plain": [
       "<Figure size 1440x1440 with 1 Axes>"
      ]
     },
     "metadata": {},
     "output_type": "display_data"
    }
   ],
   "source": [
    "sns.set(rc={'figure.figsize':(20,20)})\n",
    "\n",
    "for i in range(0, pca_2d_agg.shape[0]):\n",
    "    if y_hc[i] == 0:\n",
    "        c1 = pl.scatter(pca_2d_agg[i,0],pca_2d_agg[i,1],c='r', marker='+')\n",
    "    elif y_hc[i] == 1:\n",
    "        c2 = pl.scatter(pca_2d_agg[i,0],pca_2d_agg[i,1],c='g', marker='o')\n",
    "    elif y_hc[i] == 2:\n",
    "        c3 = pl.scatter(pca_2d_agg[i,0],pca_2d_agg[i,1],c='b', marker='*')\n",
    "    elif y_hc[i] == 3:\n",
    "        c4 = pl.scatter(pca_2d_agg[i,0],pca_2d_agg[i,1],c='m', marker='v')\n",
    "    elif y_hc[i] == 4:\n",
    "        c5 = pl.scatter(pca_2d_agg[i,0],pca_2d_agg[i,1],c='#A2142F', marker='p')\n",
    "  \n",
    "        \n",
    "pl.legend([c1, c2, c3, c4, c5], ['Cluster1', 'Cluster2',\n",
    "    'Cluster3', 'Cluster4','Cluster5'])\n",
    "pl.title('Airline dataset with Heirarchial Agglo Clustering')\n",
    "pl.show()"
   ]
  },
  {
   "cell_type": "markdown",
   "metadata": {},
   "source": [
    "## DBSCAN Clustering\n",
    "\n",
    "#### Fixing the Hyperparameters\n",
    "\n",
    "- Epsilon value is taken to be 1\n",
    "- Min pts is 8 since there is high density"
   ]
  },
  {
   "cell_type": "markdown",
   "metadata": {},
   "source": [
    "#### DBSCAN Model Building"
   ]
  },
  {
   "cell_type": "code",
   "execution_count": 27,
   "metadata": {
    "ExecuteTime": {
     "end_time": "2022-02-23T07:57:48.655645Z",
     "start_time": "2022-02-23T07:57:47.942618Z"
    },
    "scrolled": true
   },
   "outputs": [
    {
     "data": {
      "text/plain": [
       "DBSCAN(eps=2, min_samples=10)"
      ]
     },
     "execution_count": 27,
     "metadata": {},
     "output_type": "execute_result"
    }
   ],
   "source": [
    "dbscan = DBSCAN(eps=2, min_samples=10)\n",
    "dbscan.fit(scaled_data)"
   ]
  },
  {
   "cell_type": "markdown",
   "metadata": {},
   "source": [
    "#### Get Clusters.labels_"
   ]
  },
  {
   "cell_type": "code",
   "execution_count": 28,
   "metadata": {
    "ExecuteTime": {
     "end_time": "2022-02-23T07:57:49.308394Z",
     "start_time": "2022-02-23T07:57:49.292377Z"
    },
    "scrolled": true
   },
   "outputs": [
    {
     "data": {
      "text/plain": [
       "array([0, 0, 0, ..., 1, 0, 0], dtype=int64)"
      ]
     },
     "execution_count": 28,
     "metadata": {},
     "output_type": "execute_result"
    }
   ],
   "source": [
    "dbscan.labels_"
   ]
  },
  {
   "cell_type": "code",
   "execution_count": 29,
   "metadata": {
    "ExecuteTime": {
     "end_time": "2022-02-23T07:57:49.756069Z",
     "start_time": "2022-02-23T07:57:49.740212Z"
    },
    "scrolled": true
   },
   "outputs": [
    {
     "data": {
      "text/plain": [
       " 0    2442\n",
       " 1    1304\n",
       "-1     237\n",
       " 2      16\n",
       "Name: clusters_dbscan, dtype: int64"
      ]
     },
     "execution_count": 29,
     "metadata": {},
     "output_type": "execute_result"
    }
   ],
   "source": [
    "data_dbscan = raw_data.copy()\n",
    "data_dbscan['clusters_dbscan'] = dbscan.labels_\n",
    "data_dbscan['clusters_dbscan'].value_counts()"
   ]
  },
  {
   "cell_type": "markdown",
   "metadata": {},
   "source": [
    "#### Model Evaluation and Visualisation"
   ]
  },
  {
   "cell_type": "code",
   "execution_count": 30,
   "metadata": {
    "ExecuteTime": {
     "end_time": "2022-02-23T07:57:51.104184Z",
     "start_time": "2022-02-23T07:57:51.048141Z"
    }
   },
   "outputs": [
    {
     "data": {
      "text/html": [
       "<div>\n",
       "<style scoped>\n",
       "    .dataframe tbody tr th:only-of-type {\n",
       "        vertical-align: middle;\n",
       "    }\n",
       "\n",
       "    .dataframe tbody tr th {\n",
       "        vertical-align: top;\n",
       "    }\n",
       "\n",
       "    .dataframe thead tr th {\n",
       "        text-align: left;\n",
       "    }\n",
       "\n",
       "    .dataframe thead tr:last-of-type th {\n",
       "        text-align: right;\n",
       "    }\n",
       "</style>\n",
       "<table border=\"1\" class=\"dataframe\">\n",
       "  <thead>\n",
       "    <tr>\n",
       "      <th></th>\n",
       "      <th>Balance</th>\n",
       "      <th>Qual_miles</th>\n",
       "      <th>cc1_miles</th>\n",
       "      <th>cc2_miles</th>\n",
       "      <th>cc3_miles</th>\n",
       "      <th>Bonus_miles</th>\n",
       "      <th>Bonus_trans</th>\n",
       "      <th>Flight_miles_12mo</th>\n",
       "      <th>Flight_trans_12</th>\n",
       "      <th>Days_since_enroll</th>\n",
       "      <th>award</th>\n",
       "    </tr>\n",
       "    <tr>\n",
       "      <th></th>\n",
       "      <th>mean</th>\n",
       "      <th>mean</th>\n",
       "      <th>mean</th>\n",
       "      <th>mean</th>\n",
       "      <th>mean</th>\n",
       "      <th>mean</th>\n",
       "      <th>mean</th>\n",
       "      <th>mean</th>\n",
       "      <th>mean</th>\n",
       "      <th>mean</th>\n",
       "      <th>mean</th>\n",
       "    </tr>\n",
       "    <tr>\n",
       "      <th>clusters_dbscan</th>\n",
       "      <th></th>\n",
       "      <th></th>\n",
       "      <th></th>\n",
       "      <th></th>\n",
       "      <th></th>\n",
       "      <th></th>\n",
       "      <th></th>\n",
       "      <th></th>\n",
       "      <th></th>\n",
       "      <th></th>\n",
       "      <th></th>\n",
       "    </tr>\n",
       "  </thead>\n",
       "  <tbody>\n",
       "    <tr>\n",
       "      <th>-1</th>\n",
       "      <td>227782.236287</td>\n",
       "      <td>1491.704641</td>\n",
       "      <td>2.687764</td>\n",
       "      <td>1.177215</td>\n",
       "      <td>1.206751</td>\n",
       "      <td>48347.751055</td>\n",
       "      <td>25.485232</td>\n",
       "      <td>3326.915612</td>\n",
       "      <td>9.666667</td>\n",
       "      <td>4834.666667</td>\n",
       "      <td>0.746835</td>\n",
       "    </tr>\n",
       "    <tr>\n",
       "      <th>0</th>\n",
       "      <td>57638.687142</td>\n",
       "      <td>42.589271</td>\n",
       "      <td>1.696151</td>\n",
       "      <td>1.000000</td>\n",
       "      <td>1.000000</td>\n",
       "      <td>9779.582719</td>\n",
       "      <td>8.901310</td>\n",
       "      <td>188.470925</td>\n",
       "      <td>0.549550</td>\n",
       "      <td>3813.633907</td>\n",
       "      <td>0.000000</td>\n",
       "    </tr>\n",
       "    <tr>\n",
       "      <th>1</th>\n",
       "      <td>75894.286043</td>\n",
       "      <td>91.086656</td>\n",
       "      <td>2.638804</td>\n",
       "      <td>1.000000</td>\n",
       "      <td>1.000000</td>\n",
       "      <td>25364.305215</td>\n",
       "      <td>14.112730</td>\n",
       "      <td>450.680982</td>\n",
       "      <td>1.416411</td>\n",
       "      <td>4566.894172</td>\n",
       "      <td>1.000000</td>\n",
       "    </tr>\n",
       "    <tr>\n",
       "      <th>2</th>\n",
       "      <td>39218.500000</td>\n",
       "      <td>0.000000</td>\n",
       "      <td>1.000000</td>\n",
       "      <td>2.000000</td>\n",
       "      <td>1.000000</td>\n",
       "      <td>9189.250000</td>\n",
       "      <td>13.500000</td>\n",
       "      <td>209.375000</td>\n",
       "      <td>0.812500</td>\n",
       "      <td>3511.187500</td>\n",
       "      <td>0.000000</td>\n",
       "    </tr>\n",
       "  </tbody>\n",
       "</table>\n",
       "</div>"
      ],
      "text/plain": [
       "                       Balance   Qual_miles cc1_miles cc2_miles cc3_miles  \\\n",
       "                          mean         mean      mean      mean      mean   \n",
       "clusters_dbscan                                                             \n",
       "-1               227782.236287  1491.704641  2.687764  1.177215  1.206751   \n",
       " 0                57638.687142    42.589271  1.696151  1.000000  1.000000   \n",
       " 1                75894.286043    91.086656  2.638804  1.000000  1.000000   \n",
       " 2                39218.500000     0.000000  1.000000  2.000000  1.000000   \n",
       "\n",
       "                  Bonus_miles Bonus_trans Flight_miles_12mo Flight_trans_12  \\\n",
       "                         mean        mean              mean            mean   \n",
       "clusters_dbscan                                                               \n",
       "-1               48347.751055   25.485232       3326.915612        9.666667   \n",
       " 0                9779.582719    8.901310        188.470925        0.549550   \n",
       " 1               25364.305215   14.112730        450.680982        1.416411   \n",
       " 2                9189.250000   13.500000        209.375000        0.812500   \n",
       "\n",
       "                Days_since_enroll     award  \n",
       "                             mean      mean  \n",
       "clusters_dbscan                              \n",
       "-1                    4834.666667  0.746835  \n",
       " 0                    3813.633907  0.000000  \n",
       " 1                    4566.894172  1.000000  \n",
       " 2                    3511.187500  0.000000  "
      ]
     },
     "execution_count": 30,
     "metadata": {},
     "output_type": "execute_result"
    }
   ],
   "source": [
    "data_dbscan.groupby('clusters_dbscan').agg(['mean'])"
   ]
  },
  {
   "cell_type": "code",
   "execution_count": 31,
   "metadata": {
    "ExecuteTime": {
     "end_time": "2022-02-23T07:57:52.137102Z",
     "start_time": "2022-02-23T07:57:52.105097Z"
    }
   },
   "outputs": [],
   "source": [
    "#Visualising the data via dimensionality reduction\n",
    "\n",
    "pca_db = PCA(n_components=2).fit(scaled_data)\n",
    "pca_2d_db = pca_db.transform(scaled_data)"
   ]
  },
  {
   "cell_type": "code",
   "execution_count": 32,
   "metadata": {
    "ExecuteTime": {
     "end_time": "2022-02-23T07:58:25.985521Z",
     "start_time": "2022-02-23T07:57:52.644132Z"
    }
   },
   "outputs": [
    {
     "data": {
      "image/png": "[encoded data removed]",
      "text/plain": [
       "<Figure size 1440x1440 with 1 Axes>"
      ]
     },
     "metadata": {},
     "output_type": "display_data"
    }
   ],
   "source": [
    "sns.set(rc={'figure.figsize':(20,20)})\n",
    "\n",
    "for i in range(0, pca_2d_db.shape[0]):\n",
    "    if dbscan.labels_[i] == 0:\n",
    "        c1 = pl.scatter(pca_2d_db[i,0],pca_2d_db[i,1],c='r', marker='+')\n",
    "    elif dbscan.labels_[i] == -1:\n",
    "        c2 = pl.scatter(pca_2d_db[i,0],pca_2d_db[i,1],c='g', marker='o')\n",
    "    elif dbscan.labels_[i] == 1:\n",
    "        c3 = pl.scatter(pca_2d_db[i,0],pca_2d_db[i,1],c='b', marker='v')\n",
    "    elif dbscan.labels_[i] == 2:\n",
    "        c4 = pl.scatter(pca_2d_db[i,0],pca_2d_db[i,1],c='k', marker='p')\n",
    "        \n",
    "pl.legend([c1, c2, c3,c4], ['Cluster1', 'Cluster2', 'Cluster3', 'Cluster4'])\n",
    "pl.title('Airline dataset with DBSCAN Clustering')\n",
    "pl.show()"
   ]
  },
  {
   "cell_type": "markdown",
   "metadata": {},
   "source": [
    "## Conclusion\n",
    "- DBScan shows the best model in the three cases since it is density based. It also shows various outlier noise points which require additional attention for the airline's schemes.\n",
    "- Heirarchial clustering took the largest processing time. It's output is not very apt. \n",
    "- Similar scenario is observed in the case of k-means clustering since the datapoints are very dense."
   ]
  }
 ],
 "metadata": {
  "kernelspec": {
   "display_name": "Python 3",
   "language": "python",
   "name": "python3"
  },
  "language_info": {
   "codemirror_mode": {
    "name": "ipython",
    "version": 3
   },
   "file_extension": ".py",
   "mimetype": "text/x-python",
   "name": "python",
   "nbconvert_exporter": "python",
   "pygments_lexer": "ipython3",
   "version": "3.8.8"
  }
 },
 "nbformat": 4,
 "nbformat_minor": 2
}
